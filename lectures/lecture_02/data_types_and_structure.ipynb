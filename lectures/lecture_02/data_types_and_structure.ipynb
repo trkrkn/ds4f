{
 "cells": [
  {
   "cell_type": "markdown",
   "id": "102e0deb",
   "metadata": {
    "slideshow": {
     "slide_type": "slide"
    }
   },
   "source": [
    "# Lecture 02 - Data Types and Structures"
   ]
  },
  {
   "cell_type": "markdown",
   "id": "95e8a009",
   "metadata": {
    "slideshow": {
     "slide_type": "slide"
    }
   },
   "source": [
    "## Overview"
   ]
  },
  {
   "cell_type": "markdown",
   "id": "cf0830a8",
   "metadata": {
    "slideshow": {
     "slide_type": "-"
    }
   },
   "source": [
    "In Python, **types** and **structures** are fundamental concepts that allow the storage, manipulation, and organization of data. \n",
    "\n",
    "This notebook covers:\n",
    "\n",
    "- **Basic data types**: `int`, `float`, `bool`, `str`\n",
    "- **Data structures**: `tuple`, `list`, `set`, `dict`\n",
    "- **Operations** and **built-in methods**"
   ]
  },
  {
   "cell_type": "markdown",
   "id": "1a5af92b",
   "metadata": {
    "slideshow": {
     "slide_type": "slide"
    }
   },
   "source": [
    "## 1. Basic Types"
   ]
  },
  {
   "cell_type": "markdown",
   "id": "085130aa",
   "metadata": {
    "slideshow": {
     "slide_type": "slide"
    }
   },
   "source": [
    "**List of types** \n",
    "\n",
    "| Object type | Meaning | Used for |\n",
    "| --- | --- | --- |\n",
    "|`int` | integer value | natural numbers |\n",
    "| `float` | floating-point number | real numbers |\n",
    "| `bool` | boolean value | true or false |\n",
    "| `str` | string object | character, word, text |\n",
    "\n",
    "*use built-in function `type()` to obtain the information*"
   ]
  },
  {
   "cell_type": "markdown",
   "id": "c3927b72",
   "metadata": {
    "slideshow": {
     "slide_type": "slide"
    }
   },
   "source": [
    "### 1.1 Integers and Floats"
   ]
  },
  {
   "cell_type": "markdown",
   "id": "d2180a05",
   "metadata": {
    "slideshow": {
     "slide_type": "-"
    }
   },
   "source": [
    "**Integers** are whole numbers, while **floats** are numbers with decimal values. "
   ]
  },
  {
   "cell_type": "markdown",
   "id": "8c116ba0",
   "metadata": {
    "slideshow": {
     "slide_type": "slide"
    }
   },
   "source": [
    "#### `Int`\n"
   ]
  },
  {
   "cell_type": "code",
   "execution_count": null,
   "id": "b7051cf8",
   "metadata": {
    "slideshow": {
     "slide_type": "-"
    }
   },
   "outputs": [],
   "source": [
    "a = 10\n",
    "type(a)"
   ]
  },
  {
   "cell_type": "markdown",
   "id": "55d1f1dc",
   "metadata": {
    "slideshow": {
     "slide_type": "slide"
    }
   },
   "source": [
    "Arithmetic operations: `+` `-` `*` `/`"
   ]
  },
  {
   "cell_type": "code",
   "execution_count": null,
   "id": "5071a94c",
   "metadata": {
    "slideshow": {
     "slide_type": "-"
    }
   },
   "outputs": [],
   "source": [
    "1 + 4 "
   ]
  },
  {
   "cell_type": "code",
   "execution_count": null,
   "id": "e2214833",
   "metadata": {
    "slideshow": {
     "slide_type": "-"
    }
   },
   "outputs": [],
   "source": [
    "a + 1"
   ]
  },
  {
   "cell_type": "code",
   "execution_count": null,
   "id": "1789a767",
   "metadata": {
    "slideshow": {
     "slide_type": "-"
    }
   },
   "outputs": [],
   "source": [
    "type(1+4)"
   ]
  },
  {
   "cell_type": "markdown",
   "id": "9ddbafc2",
   "metadata": {
    "slideshow": {
     "slide_type": "slide"
    }
   },
   "source": [
    "#### `Floats`"
   ]
  },
  {
   "cell_type": "code",
   "execution_count": null,
   "id": "cd01aef7",
   "metadata": {
    "slideshow": {
     "slide_type": "-"
    }
   },
   "outputs": [],
   "source": [
    "type (1/4)"
   ]
  },
  {
   "cell_type": "code",
   "execution_count": null,
   "id": "2f0abded",
   "metadata": {
    "slideshow": {
     "slide_type": "-"
    }
   },
   "outputs": [],
   "source": [
    "1/4"
   ]
  },
  {
   "cell_type": "code",
   "execution_count": null,
   "id": "d9f43ace",
   "metadata": {
    "slideshow": {
     "slide_type": "-"
    }
   },
   "outputs": [],
   "source": [
    "type(0.25)"
   ]
  },
  {
   "cell_type": "code",
   "execution_count": null,
   "id": "3e3d7130",
   "metadata": {
    "slideshow": {
     "slide_type": "-"
    }
   },
   "outputs": [],
   "source": [
    "type (0)"
   ]
  },
  {
   "cell_type": "code",
   "execution_count": null,
   "id": "d474de0b",
   "metadata": {
    "slideshow": {
     "slide_type": "-"
    }
   },
   "outputs": [],
   "source": [
    "type (0.0)"
   ]
  },
  {
   "cell_type": "code",
   "execution_count": null,
   "id": "f5b20efa",
   "metadata": {
    "slideshow": {
     "slide_type": "slide"
    }
   },
   "outputs": [],
   "source": [
    "# Example: Representing account balances\n",
    "balance = 1000  # Integer\n",
    "interest_rate = 5.5  # Float"
   ]
  },
  {
   "cell_type": "code",
   "execution_count": null,
   "id": "a51bf0e9",
   "metadata": {
    "slideshow": {
     "slide_type": "-"
    }
   },
   "outputs": [],
   "source": [
    "# Calculating interest\n",
    "interest = balance * interest_rate / 100\n",
    "print(\"Interest:\", interest)"
   ]
  },
  {
   "cell_type": "markdown",
   "id": "613a678c",
   "metadata": {
    "slideshow": {
     "slide_type": "slide"
    }
   },
   "source": [
    "### 1.2 Booleans"
   ]
  },
  {
   "cell_type": "markdown",
   "id": "3f912086",
   "metadata": {
    "slideshow": {
     "slide_type": "-"
    }
   },
   "source": [
    "**Booleans** represent `True` or `False` values. "
   ]
  },
  {
   "cell_type": "code",
   "execution_count": null,
   "id": "d44ac7e7",
   "metadata": {
    "slideshow": {
     "slide_type": "slide"
    }
   },
   "outputs": [],
   "source": [
    "# Example: Checking if an account is active\n",
    "account_active = True\n",
    "if account_active == True:\n",
    "    print(\"The account is active.\")\n",
    "else:\n",
    "    print(\"The account is inactive.\")"
   ]
  },
  {
   "cell_type": "code",
   "execution_count": null,
   "id": "e11d0eb6",
   "metadata": {
    "slideshow": {
     "slide_type": "slide"
    }
   },
   "outputs": [],
   "source": [
    "# implicit comparison\n",
    "if account_active:\n",
    "    print(\"The account is active.\")\n",
    "else:\n",
    "    print(\"The account is inactive.\")"
   ]
  },
  {
   "cell_type": "markdown",
   "id": "6dafea5e",
   "metadata": {
    "slideshow": {
     "slide_type": "slide"
    }
   },
   "source": [
    "#### Conditions: `>` `<` `>=` `<=` `==` `!=`"
   ]
  },
  {
   "cell_type": "code",
   "execution_count": null,
   "id": "c52b8e98",
   "metadata": {
    "slideshow": {
     "slide_type": "-"
    }
   },
   "outputs": [],
   "source": [
    "4 > 3"
   ]
  },
  {
   "cell_type": "code",
   "execution_count": null,
   "id": "a82f1f82",
   "metadata": {
    "slideshow": {
     "slide_type": "-"
    }
   },
   "outputs": [],
   "source": [
    "type (4 > 3)"
   ]
  },
  {
   "cell_type": "code",
   "execution_count": null,
   "id": "d18ef1e7",
   "metadata": {
    "slideshow": {
     "slide_type": "-"
    }
   },
   "outputs": [],
   "source": [
    "type (False)"
   ]
  },
  {
   "cell_type": "code",
   "execution_count": null,
   "id": "51b7b9d3",
   "metadata": {
    "slideshow": {
     "slide_type": "-"
    }
   },
   "outputs": [],
   "source": [
    "4 >= 3"
   ]
  },
  {
   "cell_type": "code",
   "execution_count": null,
   "id": "235383b5",
   "metadata": {
    "slideshow": {
     "slide_type": "-"
    }
   },
   "outputs": [],
   "source": [
    "4 < 3"
   ]
  },
  {
   "cell_type": "code",
   "execution_count": null,
   "id": "1c501f96",
   "metadata": {
    "slideshow": {
     "slide_type": "-"
    }
   },
   "outputs": [],
   "source": [
    "4 == 3"
   ]
  },
  {
   "cell_type": "code",
   "execution_count": null,
   "id": "211473c6",
   "metadata": {
    "slideshow": {
     "slide_type": "-"
    }
   },
   "outputs": [],
   "source": [
    "4 != 3"
   ]
  },
  {
   "cell_type": "markdown",
   "id": "e15d8466",
   "metadata": {
    "slideshow": {
     "slide_type": "slide"
    }
   },
   "source": [
    "#### Logic operations: `and` `or` `not` `in`"
   ]
  },
  {
   "cell_type": "code",
   "execution_count": null,
   "id": "c48b5669",
   "metadata": {
    "slideshow": {
     "slide_type": "-"
    }
   },
   "outputs": [],
   "source": [
    "True and True"
   ]
  },
  {
   "cell_type": "code",
   "execution_count": null,
   "id": "3c874f7c",
   "metadata": {
    "slideshow": {
     "slide_type": "-"
    }
   },
   "outputs": [],
   "source": [
    "False and False"
   ]
  },
  {
   "cell_type": "code",
   "execution_count": null,
   "id": "027ba315",
   "metadata": {
    "slideshow": {
     "slide_type": "-"
    }
   },
   "outputs": [],
   "source": [
    "True or True"
   ]
  },
  {
   "cell_type": "code",
   "execution_count": null,
   "id": "ce02dad5",
   "metadata": {
    "slideshow": {
     "slide_type": "-"
    }
   },
   "outputs": [],
   "source": [
    "True or False"
   ]
  },
  {
   "cell_type": "code",
   "execution_count": null,
   "id": "f1fa1664",
   "metadata": {
    "slideshow": {
     "slide_type": "-"
    }
   },
   "outputs": [],
   "source": [
    "False or False"
   ]
  },
  {
   "cell_type": "code",
   "execution_count": null,
   "id": "6b6e66d8",
   "metadata": {
    "slideshow": {
     "slide_type": "-"
    }
   },
   "outputs": [],
   "source": [
    "not True"
   ]
  },
  {
   "cell_type": "code",
   "execution_count": null,
   "id": "b0db64e0",
   "metadata": {
    "slideshow": {
     "slide_type": "-"
    }
   },
   "outputs": [],
   "source": [
    "not False"
   ]
  },
  {
   "cell_type": "markdown",
   "id": "1c974174",
   "metadata": {
    "slideshow": {
     "slide_type": "slide"
    }
   },
   "source": [
    "#### Combinations"
   ]
  },
  {
   "cell_type": "code",
   "execution_count": null,
   "id": "32c7e2a0",
   "metadata": {
    "slideshow": {
     "slide_type": "-"
    }
   },
   "outputs": [],
   "source": [
    "(4 > 3) and (2 > 3)"
   ]
  },
  {
   "cell_type": "code",
   "execution_count": null,
   "id": "21004cb3",
   "metadata": {
    "slideshow": {
     "slide_type": "-"
    }
   },
   "outputs": [],
   "source": [
    "(4==3) or (2 != 3)"
   ]
  },
  {
   "cell_type": "code",
   "execution_count": null,
   "id": "4ad2023d",
   "metadata": {
    "slideshow": {
     "slide_type": "-"
    }
   },
   "outputs": [],
   "source": [
    "not (4 != 4)"
   ]
  },
  {
   "cell_type": "code",
   "execution_count": null,
   "id": "a03f1e88",
   "metadata": {
    "slideshow": {
     "slide_type": "-"
    }
   },
   "outputs": [],
   "source": [
    "(not (4 != 4)) and (2 == 3)"
   ]
  },
  {
   "cell_type": "markdown",
   "id": "0a0abe79",
   "metadata": {
    "slideshow": {
     "slide_type": "slide"
    }
   },
   "source": [
    "**Note:** Major for control condition (`if` `while` `for`) -- *see later*"
   ]
  },
  {
   "cell_type": "code",
   "execution_count": null,
   "id": "1f0dc00b",
   "metadata": {
    "slideshow": {
     "slide_type": "-"
    }
   },
   "outputs": [],
   "source": [
    "if 4 > 3:\n",
    "    print ('condition true')\n",
    "else:\n",
    "    print ('condition not true')"
   ]
  },
  {
   "cell_type": "code",
   "execution_count": null,
   "id": "1d922c9c",
   "metadata": {
    "slideshow": {
     "slide_type": "-"
    }
   },
   "outputs": [],
   "source": [
    "i = 0\n",
    "while i < 4:\n",
    "    print ('condition true: i = ', i)\n",
    "    i = i + 1"
   ]
  },
  {
   "cell_type": "markdown",
   "id": "99a1aedd",
   "metadata": {
    "slideshow": {
     "slide_type": "slide"
    }
   },
   "source": [
    "#### Boolean casting: 0,1 (and other values)"
   ]
  },
  {
   "cell_type": "code",
   "execution_count": null,
   "id": "5f3317ac",
   "metadata": {
    "slideshow": {
     "slide_type": "-"
    }
   },
   "outputs": [],
   "source": [
    "int(True)"
   ]
  },
  {
   "cell_type": "code",
   "execution_count": null,
   "id": "80726a2a",
   "metadata": {
    "slideshow": {
     "slide_type": "-"
    }
   },
   "outputs": [],
   "source": [
    "int(False)"
   ]
  },
  {
   "cell_type": "code",
   "execution_count": null,
   "id": "eec021bd",
   "metadata": {
    "slideshow": {
     "slide_type": "-"
    }
   },
   "outputs": [],
   "source": [
    "float(True)"
   ]
  },
  {
   "cell_type": "code",
   "execution_count": null,
   "id": "22d88380",
   "metadata": {
    "slideshow": {
     "slide_type": "-"
    }
   },
   "outputs": [],
   "source": [
    "float(False)"
   ]
  },
  {
   "cell_type": "code",
   "execution_count": null,
   "id": "92cb8c6b",
   "metadata": {
    "slideshow": {
     "slide_type": "-"
    }
   },
   "outputs": [],
   "source": [
    "bool(0)"
   ]
  },
  {
   "cell_type": "code",
   "execution_count": null,
   "id": "b796b61e",
   "metadata": {
    "slideshow": {
     "slide_type": "-"
    }
   },
   "outputs": [],
   "source": [
    "bool(1)"
   ]
  },
  {
   "cell_type": "code",
   "execution_count": null,
   "id": "9d970c75",
   "metadata": {
    "slideshow": {
     "slide_type": "-"
    }
   },
   "outputs": [],
   "source": [
    "bool(0.0)"
   ]
  },
  {
   "cell_type": "code",
   "execution_count": null,
   "id": "be82e980",
   "metadata": {
    "slideshow": {
     "slide_type": "-"
    }
   },
   "outputs": [],
   "source": [
    "bool(1.0)"
   ]
  },
  {
   "cell_type": "code",
   "execution_count": null,
   "id": "960d0985",
   "metadata": {
    "slideshow": {
     "slide_type": "-"
    }
   },
   "outputs": [],
   "source": [
    "bool(10.5)"
   ]
  },
  {
   "cell_type": "code",
   "execution_count": null,
   "id": "7c26c439",
   "metadata": {
    "slideshow": {
     "slide_type": "-"
    }
   },
   "outputs": [],
   "source": [
    "bool(-2)"
   ]
  },
  {
   "cell_type": "markdown",
   "id": "fb45035f",
   "metadata": {
    "slideshow": {
     "slide_type": "slide"
    }
   },
   "source": [
    "### 1.3 Strings"
   ]
  },
  {
   "cell_type": "markdown",
   "id": "4e79f611",
   "metadata": {
    "slideshow": {
     "slide_type": "-"
    }
   },
   "source": [
    "**Strings** are used to represent text. "
   ]
  },
  {
   "cell_type": "code",
   "execution_count": null,
   "id": "225b3f65",
   "metadata": {
    "slideshow": {
     "slide_type": "slide"
    }
   },
   "outputs": [],
   "source": [
    "# Example: Representing account holder information\n",
    "account_holder = \"John Doe\"\n",
    "account_number = \"1234567890\"\n",
    "\n",
    "print(\"Account Holder:\", account_holder)\n",
    "print(\"Account Number:\", account_number)"
   ]
  },
  {
   "cell_type": "code",
   "execution_count": null,
   "id": "a08724d2",
   "metadata": {},
   "outputs": [],
   "source": [
    "type(account_holder)"
   ]
  },
  {
   "cell_type": "markdown",
   "id": "093829b8",
   "metadata": {
    "slideshow": {
     "slide_type": "slide"
    }
   },
   "source": [
    "#### Built-in methods"
   ]
  },
  {
   "cell_type": "markdown",
   "id": "c3b67f5a",
   "metadata": {
    "slideshow": {
     "slide_type": "-"
    }
   },
   "source": [
    "`str` variables come with a series of useful built-in methods.\n",
    "\n",
    "| Method |\n",
    "| --- |\n",
    "| `capitalize()` |\n",
    "| `count()` |\n",
    "| `find()` |\n",
    "| `join()` |\n",
    "| `replace()` |\n",
    "| `split()` |\n",
    "| `upper()` |"
   ]
  },
  {
   "cell_type": "code",
   "execution_count": null,
   "id": "718eceec",
   "metadata": {
    "slideshow": {
     "slide_type": "slide"
    }
   },
   "outputs": [],
   "source": [
    "t = 'this is a string object'"
   ]
  },
  {
   "cell_type": "code",
   "execution_count": null,
   "id": "7a4ea596",
   "metadata": {
    "slideshow": {
     "slide_type": "-"
    }
   },
   "outputs": [],
   "source": [
    "t.capitalize()"
   ]
  },
  {
   "cell_type": "code",
   "execution_count": null,
   "id": "a170d573",
   "metadata": {
    "slideshow": {
     "slide_type": "-"
    }
   },
   "outputs": [],
   "source": [
    "t.split('i')"
   ]
  },
  {
   "cell_type": "code",
   "execution_count": null,
   "id": "d28d495a",
   "metadata": {
    "slideshow": {
     "slide_type": "-"
    }
   },
   "outputs": [],
   "source": [
    "t.find('string')"
   ]
  },
  {
   "cell_type": "code",
   "execution_count": null,
   "id": "e6943668",
   "metadata": {
    "slideshow": {
     "slide_type": "-"
    }
   },
   "outputs": [],
   "source": [
    "t.replace(' ','|')"
   ]
  },
  {
   "cell_type": "markdown",
   "id": "2cff5a76",
   "metadata": {
    "slideshow": {
     "slide_type": "slide"
    }
   },
   "source": [
    "#### Print method `print()`"
   ]
  },
  {
   "cell_type": "code",
   "execution_count": null,
   "id": "70fca7e5",
   "metadata": {
    "slideshow": {
     "slide_type": "-"
    }
   },
   "outputs": [],
   "source": [
    "print('Hello World!')"
   ]
  },
  {
   "cell_type": "code",
   "execution_count": null,
   "id": "488c1d43",
   "metadata": {
    "slideshow": {
     "slide_type": "-"
    }
   },
   "outputs": [],
   "source": [
    "print (t)"
   ]
  },
  {
   "cell_type": "code",
   "execution_count": null,
   "id": "7037126c",
   "metadata": {
    "slideshow": {
     "slide_type": "-"
    }
   },
   "outputs": [],
   "source": [
    "i = 0\n",
    "while i < 4:\n",
    "    print (i)\n",
    "    i = i + 1"
   ]
  },
  {
   "cell_type": "code",
   "execution_count": null,
   "id": "d8ba3cac",
   "metadata": {
    "slideshow": {
     "slide_type": "-"
    }
   },
   "outputs": [],
   "source": [
    "i = 0\n",
    "while i < 4:\n",
    "    print (i, end = '|')\n",
    "    i = i + 1"
   ]
  },
  {
   "cell_type": "markdown",
   "id": "ac88d3db",
   "metadata": {
    "slideshow": {
     "slide_type": "slide"
    }
   },
   "source": [
    "#### Printing with variables"
   ]
  },
  {
   "cell_type": "code",
   "execution_count": null,
   "id": "e190800e",
   "metadata": {
    "slideshow": {
     "slide_type": "-"
    }
   },
   "outputs": [],
   "source": [
    "a = 10\n",
    "print('this is the value of a:', a)"
   ]
  },
  {
   "cell_type": "code",
   "execution_count": null,
   "id": "a19bc2bc",
   "metadata": {
    "slideshow": {
     "slide_type": "-"
    }
   },
   "outputs": [],
   "source": [
    "tt = 'this is the value of a: ' + str(a)\n",
    "print (tt)"
   ]
  },
  {
   "cell_type": "markdown",
   "id": "4faffcbe",
   "metadata": {
    "slideshow": {
     "slide_type": "slide"
    }
   },
   "source": [
    "## 2. Basic structures"
   ]
  },
  {
   "cell_type": "markdown",
   "id": "da8d7ede",
   "metadata": {
    "slideshow": {
     "slide_type": "slide"
    }
   },
   "source": [
    "**List of structures** \n",
    "\n",
    "| Object type | Meaning | Used for |\n",
    "| --- | --- | --- |\n",
    "| `tuple` | immutable container | fixed set of objects |\n",
    "| `list` | mutable container | ordered and changing set of objects |\n",
    "| `dict` | mutable container | key-value store |\n",
    "| `set` | mutable container | unordered collection of unique objects |\n",
    "\n",
    "\n",
    "*use built-in function `type()` to obtain the information*\n"
   ]
  },
  {
   "cell_type": "markdown",
   "id": "2b569876",
   "metadata": {
    "slideshow": {
     "slide_type": "slide"
    }
   },
   "source": [
    "**Navigating structures**\n",
    "\n",
    "- **Indexing**: obtain item at position *n* \n",
    "        s[n]\n",
    "- **Slicing**: obtain items between position *i* and *j*\n",
    "        s[i:j]\n",
    "        s[i:]\n",
    "        s[:j]\n",
    "- **Ranging**: obtain items between position *i* and *j* spaced by *k*\n",
    "        s[i:j:k]\n",
    "\n",
    "**Note:** In Python, indexing starts at `0`"
   ]
  },
  {
   "cell_type": "markdown",
   "id": "dab36e11",
   "metadata": {
    "slideshow": {
     "slide_type": "slide"
    }
   },
   "source": [
    "### 2.1 `tuple`"
   ]
  },
  {
   "cell_type": "markdown",
   "id": "6effe56a",
   "metadata": {
    "editable": true,
    "slideshow": {
     "slide_type": "-"
    },
    "tags": []
   },
   "source": [
    "**Tuples** are **immutable** collections of items (i.e., cannot be changed after creation). "
   ]
  },
  {
   "cell_type": "code",
   "execution_count": null,
   "id": "d0308b3e",
   "metadata": {
    "slideshow": {
     "slide_type": "slide"
    }
   },
   "outputs": [],
   "source": [
    "# Example: Coordinates of a bank branch\n",
    "branch_location = (40.7128, -74.0060)  # New York City coordinates\n",
    "print(\"Branch Location:\", branch_location)"
   ]
  },
  {
   "cell_type": "code",
   "execution_count": null,
   "id": "647882c0",
   "metadata": {
    "slideshow": {
     "slide_type": "slide"
    }
   },
   "outputs": [],
   "source": [
    "t = (1, 2.5, 'data')\n",
    "type(t)"
   ]
  },
  {
   "cell_type": "code",
   "execution_count": null,
   "id": "d72b87d4",
   "metadata": {},
   "outputs": [],
   "source": [
    "#also works without ()\n",
    "t = 1, 2.5, 'data'\n",
    "type(t)"
   ]
  },
  {
   "cell_type": "code",
   "execution_count": null,
   "id": "c1f61beb",
   "metadata": {},
   "outputs": [],
   "source": [
    "#indexing\n",
    "t[2]"
   ]
  },
  {
   "cell_type": "code",
   "execution_count": null,
   "id": "c0fe90d9",
   "metadata": {},
   "outputs": [],
   "source": [
    "type(t[2])"
   ]
  },
  {
   "cell_type": "markdown",
   "id": "230df2e4",
   "metadata": {
    "slideshow": {
     "slide_type": "slide"
    }
   },
   "source": [
    "### 2.2 `list`"
   ]
  },
  {
   "cell_type": "markdown",
   "id": "7995e487",
   "metadata": {
    "slideshow": {
     "slide_type": "-"
    }
   },
   "source": [
    "**Lists** are **ordered** collections of items, which can be of mixed data types. "
   ]
  },
  {
   "cell_type": "code",
   "execution_count": null,
   "id": "a75be516",
   "metadata": {
    "slideshow": {
     "slide_type": "slide"
    }
   },
   "outputs": [],
   "source": [
    "# Example: List of recent transactions\n",
    "transactions = [100, -50, 200, -30, 400]\n",
    "print(\"Transactions:\", transactions)\n",
    "\n",
    "# Adding a new transaction\n",
    "transactions.append(-100)\n",
    "print(\"Updated Transactions:\", transactions)"
   ]
  },
  {
   "cell_type": "code",
   "execution_count": null,
   "id": "1d14c6c6",
   "metadata": {
    "slideshow": {
     "slide_type": "slide"
    }
   },
   "outputs": [],
   "source": [
    "l = [1, 2.5, 'data']\n",
    "l[2]"
   ]
  },
  {
   "cell_type": "code",
   "execution_count": null,
   "id": "81fc7a2c",
   "metadata": {},
   "outputs": [],
   "source": [
    "#casting\n",
    "l = list(t)\n",
    "l"
   ]
  },
  {
   "cell_type": "code",
   "execution_count": null,
   "id": "14c3acc2",
   "metadata": {},
   "outputs": [],
   "source": [
    "type (l)"
   ]
  },
  {
   "cell_type": "markdown",
   "id": "a19ef20b",
   "metadata": {
    "slideshow": {
     "slide_type": "slide"
    }
   },
   "source": [
    "#### Built-in methods"
   ]
  },
  {
   "cell_type": "markdown",
   "id": "91c58062",
   "metadata": {},
   "source": [
    "| Method |\n",
    "| --- |\n",
    "| `l[i] = x` |\n",
    "| `l[i:j:k] = s` |\n",
    "| `append()` |\n",
    "| `count()` |\n",
    "| `del l[i:j:k]` |\n",
    "| `index()` |\n",
    "| `extend()` |\n",
    "| `insert()` |\n",
    "| `remove()` |\n",
    "| `pop()` |\n",
    "| `revers()` |\n",
    "| `sort()` |\n",
    "\n",
    "*contrary to tuples, lists are mutable containers*"
   ]
  },
  {
   "cell_type": "code",
   "execution_count": null,
   "id": "1eb83127",
   "metadata": {
    "slideshow": {
     "slide_type": "slide"
    }
   },
   "outputs": [],
   "source": [
    "l.append([4,3])\n",
    "l"
   ]
  },
  {
   "cell_type": "code",
   "execution_count": null,
   "id": "e7bf8d9c",
   "metadata": {},
   "outputs": [],
   "source": [
    "l.extend([1.0, 1.5, 2.0])\n",
    "l"
   ]
  },
  {
   "cell_type": "code",
   "execution_count": null,
   "id": "4f42b012",
   "metadata": {},
   "outputs": [],
   "source": [
    "l = [0, 1, 2, 3, 4, 5, 6, 7]\n",
    "s = [10, 20, 30]\n",
    "\n",
    "l[1:7:2] = s\n",
    "print(l)"
   ]
  },
  {
   "cell_type": "code",
   "execution_count": null,
   "id": "7cc71853",
   "metadata": {
    "slideshow": {
     "slide_type": "slide"
    }
   },
   "outputs": [],
   "source": [
    "l.insert(1,'insert')\n",
    "l"
   ]
  },
  {
   "cell_type": "code",
   "execution_count": null,
   "id": "39436f5c",
   "metadata": {},
   "outputs": [],
   "source": [
    "l.remove('data')\n",
    "l"
   ]
  },
  {
   "cell_type": "code",
   "execution_count": null,
   "id": "417242c1",
   "metadata": {},
   "outputs": [],
   "source": [
    "p = l.pop(3)\n",
    "print (l, p)"
   ]
  },
  {
   "cell_type": "code",
   "execution_count": null,
   "id": "8f8d283f",
   "metadata": {},
   "outputs": [],
   "source": [
    "#slicing\n",
    "l[2:5]"
   ]
  },
  {
   "cell_type": "markdown",
   "id": "c29e3461-05aa-4e4d-9efd-6f208b9452a7",
   "metadata": {
    "editable": true,
    "slideshow": {
     "slide_type": "slide"
    },
    "tags": []
   },
   "source": [
    "**Mutable vs immutable objects**"
   ]
  },
  {
   "cell_type": "code",
   "execution_count": null,
   "id": "e027d39f-0f16-4a4b-89a1-c380c4bfaf8b",
   "metadata": {},
   "outputs": [],
   "source": [
    "t = (1, [2, 3], 4)"
   ]
  },
  {
   "cell_type": "code",
   "execution_count": null,
   "id": "41540d22-4e87-49b2-92e5-3a8e2ae77280",
   "metadata": {},
   "outputs": [],
   "source": [
    "t[1].append(5)    "
   ]
  },
  {
   "cell_type": "code",
   "execution_count": null,
   "id": "e2e02057-7245-4acb-8537-1e91facebcfd",
   "metadata": {},
   "outputs": [],
   "source": [
    "print(t)          "
   ]
  },
  {
   "cell_type": "code",
   "execution_count": null,
   "id": "4ac60dc4-9075-4439-9ba5-3b2163093079",
   "metadata": {},
   "outputs": [],
   "source": [
    "t[0] = 9"
   ]
  },
  {
   "cell_type": "markdown",
   "id": "0f596318",
   "metadata": {
    "editable": true,
    "slideshow": {
     "slide_type": "slide"
    },
    "tags": []
   },
   "source": [
    "### 2.3 `dict`"
   ]
  },
  {
   "cell_type": "markdown",
   "id": "af74b1f9",
   "metadata": {},
   "source": [
    "**Dictionaries** store data as key-value pairs."
   ]
  },
  {
   "cell_type": "code",
   "execution_count": null,
   "id": "10e89fec",
   "metadata": {
    "slideshow": {
     "slide_type": "slide"
    }
   },
   "outputs": [],
   "source": [
    "# Example: Dictionary of account balances\n",
    "account_balances = {\n",
    "    \"1234567890\": 1000,\n",
    "    \"0987654321\": 2500,\n",
    "    \"1122334455\": 750\n",
    "}\n",
    "print(\"Account Balances:\", account_balances)\n",
    "\n",
    "# Accessing a balance by account number\n",
    "print(\"Balance of account 1234567890:\", account_balances[\"1234567890\"])"
   ]
  },
  {
   "cell_type": "markdown",
   "id": "f8dadcd8",
   "metadata": {
    "slideshow": {
     "slide_type": "slide"
    }
   },
   "source": [
    "#### Keys and values"
   ]
  },
  {
   "cell_type": "code",
   "execution_count": null,
   "id": "35f91539",
   "metadata": {},
   "outputs": [],
   "source": [
    "d = {\n",
    "    'Name' : 'Iron Man',\n",
    "    'Country' : 'USA',\n",
    "    'Profession' : 'Super Hero',\n",
    "    'Age' : 36\n",
    "}"
   ]
  },
  {
   "cell_type": "code",
   "execution_count": null,
   "id": "7615ad53",
   "metadata": {},
   "outputs": [],
   "source": [
    "type(d)"
   ]
  },
  {
   "cell_type": "code",
   "execution_count": null,
   "id": "c1846a10",
   "metadata": {},
   "outputs": [],
   "source": [
    "print (d['Name'], d['Age'])"
   ]
  },
  {
   "cell_type": "markdown",
   "id": "b339b369",
   "metadata": {
    "slideshow": {
     "slide_type": "slide"
    }
   },
   "source": [
    "#### Built-in methods"
   ]
  },
  {
   "cell_type": "markdown",
   "id": "c2501e6c",
   "metadata": {},
   "source": [
    "| Method |\n",
    "| --- |\n",
    "| `d[k]` |\n",
    "| `d[k] = x` |\n",
    "| `del d[k]` |\n",
    "| `clear()` |\n",
    "| `copy()` |\n",
    "| `items()` |\n",
    "| `keys()` |\n",
    "| `values()` |\n",
    "| `popitem()` |\n",
    "| `update()` |"
   ]
  },
  {
   "cell_type": "code",
   "execution_count": null,
   "id": "0173abd1",
   "metadata": {
    "slideshow": {
     "slide_type": "slide"
    }
   },
   "outputs": [],
   "source": [
    "d.keys()"
   ]
  },
  {
   "cell_type": "code",
   "execution_count": null,
   "id": "06584db8",
   "metadata": {},
   "outputs": [],
   "source": [
    "d.values()"
   ]
  },
  {
   "cell_type": "code",
   "execution_count": null,
   "id": "b738bf6d",
   "metadata": {},
   "outputs": [],
   "source": [
    "d.items()"
   ]
  },
  {
   "cell_type": "code",
   "execution_count": null,
   "id": "38060be8",
   "metadata": {},
   "outputs": [],
   "source": [
    "birthday = True\n",
    "if birthday:\n",
    "    d['Age'] += 1\n",
    "print (d['Age'])"
   ]
  },
  {
   "cell_type": "code",
   "execution_count": null,
   "id": "db7ebdcc",
   "metadata": {},
   "outputs": [],
   "source": [
    "for item in d.items():\n",
    "    print (item)"
   ]
  },
  {
   "cell_type": "code",
   "execution_count": null,
   "id": "7fb2121e",
   "metadata": {
    "scrolled": true
   },
   "outputs": [],
   "source": [
    "for value in d.values():\n",
    "    print (type(value))"
   ]
  },
  {
   "cell_type": "markdown",
   "id": "52c137f0",
   "metadata": {
    "slideshow": {
     "slide_type": "slide"
    }
   },
   "source": [
    "### 2.4 `set`"
   ]
  },
  {
   "cell_type": "markdown",
   "id": "e0b1183e",
   "metadata": {},
   "source": [
    "**Sets** are unordered collections of unique items."
   ]
  },
  {
   "cell_type": "code",
   "execution_count": null,
   "id": "8afc898c",
   "metadata": {
    "slideshow": {
     "slide_type": "slide"
    }
   },
   "outputs": [],
   "source": [
    "s = set(['u', 'd', 'ud', 'du', 'd', 'du'])\n",
    "s"
   ]
  },
  {
   "cell_type": "markdown",
   "id": "75dbd629",
   "metadata": {
    "slideshow": {
     "slide_type": "slide"
    }
   },
   "source": [
    "#### Set operations"
   ]
  },
  {
   "cell_type": "code",
   "execution_count": null,
   "id": "bb04e176",
   "metadata": {},
   "outputs": [],
   "source": [
    "t = set(['d', 'dd', 'uu', 'u'])"
   ]
  },
  {
   "cell_type": "code",
   "execution_count": null,
   "id": "1e397a13",
   "metadata": {},
   "outputs": [],
   "source": [
    "s.union(t)"
   ]
  },
  {
   "cell_type": "code",
   "execution_count": null,
   "id": "991c9c29",
   "metadata": {},
   "outputs": [],
   "source": [
    "s.intersection(t)"
   ]
  },
  {
   "cell_type": "code",
   "execution_count": null,
   "id": "a0ff3c83",
   "metadata": {},
   "outputs": [],
   "source": [
    "s.difference(t)"
   ]
  },
  {
   "cell_type": "code",
   "execution_count": null,
   "id": "843c95e8",
   "metadata": {},
   "outputs": [],
   "source": [
    "t.difference(s)"
   ]
  },
  {
   "cell_type": "code",
   "execution_count": null,
   "id": "7292b6d1",
   "metadata": {},
   "outputs": [],
   "source": [
    "s.symmetric_difference(t)"
   ]
  },
  {
   "cell_type": "markdown",
   "id": "7145fb06",
   "metadata": {
    "slideshow": {
     "slide_type": "slide"
    }
   },
   "source": [
    " "
   ]
  }
 ],
 "metadata": {
  "celltoolbar": "Slideshow",
  "kernelspec": {
   "display_name": "Python 3 (ipykernel)",
   "language": "python",
   "name": "python3"
  },
  "language_info": {
   "codemirror_mode": {
    "name": "ipython",
    "version": 3
   },
   "file_extension": ".py",
   "mimetype": "text/x-python",
   "name": "python",
   "nbconvert_exporter": "python",
   "pygments_lexer": "ipython3",
   "version": "3.12.7"
  }
 },
 "nbformat": 4,
 "nbformat_minor": 5
}
