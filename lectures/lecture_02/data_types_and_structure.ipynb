{
 "cells": [
  {
   "cell_type": "markdown",
   "id": "102e0deb",
   "metadata": {
    "slideshow": {
     "slide_type": "slide"
    }
   },
   "source": [
    "# Lecture 02 - Data Types and Structures"
   ]
  },
  {
   "cell_type": "markdown",
   "id": "95e8a009",
   "metadata": {
    "slideshow": {
     "slide_type": "slide"
    }
   },
   "source": [
    "## Overview"
   ]
  },
  {
   "cell_type": "markdown",
   "id": "cf0830a8",
   "metadata": {
    "slideshow": {
     "slide_type": "-"
    }
   },
   "source": [
    "In Python, **types** and **structures** are fundamental concepts that allow the storage, manipulation, and organization of data. \n",
    "\n",
    "This notebook covers:\n",
    "- **Basic data types**: `int`, `float`, `bool`, `str`\n",
    "- **Data structures**: `tuple`, `list`, `set`, `dict`\n",
    "- **Operations** and **built-in methods**"
   ]
  },
  {
   "cell_type": "markdown",
   "id": "1a5af92b",
   "metadata": {
    "slideshow": {
     "slide_type": "slide"
    }
   },
   "source": [
    "## 1. Basic Types"
   ]
  },
  {
   "cell_type": "markdown",
   "id": "085130aa",
   "metadata": {
    "slideshow": {
     "slide_type": "slide"
    }
   },
   "source": [
    "**List of types** \n",
    "\n",
    "| Object type | Meaning | Used for |\n",
    "| --- | --- | --- |\n",
    "|`int` | integer value | natural numbers |\n",
    "| `float` | floating-point number | real numbers |\n",
    "| `bool` | boolean value | true or false |\n",
    "| `str` | string object | character, word, text |\n",
    "\n",
    "*use built-in function `type()` to obtain the information*"
   ]
  },
  {
   "cell_type": "markdown",
   "id": "c3927b72",
   "metadata": {
    "slideshow": {
     "slide_type": "slide"
    }
   },
   "source": [
    "### 1.1 Integers and Floats"
   ]
  },
  {
   "cell_type": "markdown",
   "id": "d2180a05",
   "metadata": {
    "slideshow": {
     "slide_type": "-"
    }
   },
   "source": [
    "**Integers** are whole numbers, while **floats** are numbers with decimal values. "
   ]
  },
  {
   "cell_type": "markdown",
   "id": "8c116ba0",
   "metadata": {
    "slideshow": {
     "slide_type": "slide"
    }
   },
   "source": [
    "#### `Int`\n"
   ]
  },
  {
   "cell_type": "code",
   "execution_count": 1,
   "id": "b7051cf8",
   "metadata": {
    "slideshow": {
     "slide_type": "-"
    }
   },
   "outputs": [
    {
     "data": {
      "text/plain": [
       "int"
      ]
     },
     "execution_count": 1,
     "metadata": {},
     "output_type": "execute_result"
    }
   ],
   "source": [
    "a = 10\n",
    "type(a)"
   ]
  },
  {
   "cell_type": "markdown",
   "id": "55d1f1dc",
   "metadata": {
    "slideshow": {
     "slide_type": "slide"
    }
   },
   "source": [
    "Arithmetic operations: `+` `-` `*` `/`"
   ]
  },
  {
   "cell_type": "code",
   "execution_count": 2,
   "id": "5071a94c",
   "metadata": {
    "slideshow": {
     "slide_type": "-"
    }
   },
   "outputs": [
    {
     "data": {
      "text/plain": [
       "5"
      ]
     },
     "execution_count": 2,
     "metadata": {},
     "output_type": "execute_result"
    }
   ],
   "source": [
    "1 + 4 "
   ]
  },
  {
   "cell_type": "code",
   "execution_count": 3,
   "id": "e2214833",
   "metadata": {
    "slideshow": {
     "slide_type": "-"
    }
   },
   "outputs": [
    {
     "data": {
      "text/plain": [
       "11"
      ]
     },
     "execution_count": 3,
     "metadata": {},
     "output_type": "execute_result"
    }
   ],
   "source": [
    "a + 1"
   ]
  },
  {
   "cell_type": "code",
   "execution_count": 4,
   "id": "1789a767",
   "metadata": {
    "slideshow": {
     "slide_type": "-"
    }
   },
   "outputs": [
    {
     "data": {
      "text/plain": [
       "int"
      ]
     },
     "execution_count": 4,
     "metadata": {},
     "output_type": "execute_result"
    }
   ],
   "source": [
    "type(1+4)"
   ]
  },
  {
   "cell_type": "markdown",
   "id": "9ddbafc2",
   "metadata": {
    "slideshow": {
     "slide_type": "slide"
    }
   },
   "source": [
    "#### `Floats`"
   ]
  },
  {
   "cell_type": "code",
   "execution_count": 5,
   "id": "cd01aef7",
   "metadata": {
    "slideshow": {
     "slide_type": "-"
    }
   },
   "outputs": [
    {
     "data": {
      "text/plain": [
       "float"
      ]
     },
     "execution_count": 5,
     "metadata": {},
     "output_type": "execute_result"
    }
   ],
   "source": [
    "type (1/4)"
   ]
  },
  {
   "cell_type": "code",
   "execution_count": 6,
   "id": "2f0abded",
   "metadata": {
    "slideshow": {
     "slide_type": "-"
    }
   },
   "outputs": [
    {
     "data": {
      "text/plain": [
       "0.25"
      ]
     },
     "execution_count": 6,
     "metadata": {},
     "output_type": "execute_result"
    }
   ],
   "source": [
    "1/4"
   ]
  },
  {
   "cell_type": "code",
   "execution_count": 7,
   "id": "d9f43ace",
   "metadata": {
    "slideshow": {
     "slide_type": "-"
    }
   },
   "outputs": [
    {
     "data": {
      "text/plain": [
       "float"
      ]
     },
     "execution_count": 7,
     "metadata": {},
     "output_type": "execute_result"
    }
   ],
   "source": [
    "type(0.25)"
   ]
  },
  {
   "cell_type": "code",
   "execution_count": 8,
   "id": "3e3d7130",
   "metadata": {
    "slideshow": {
     "slide_type": "-"
    }
   },
   "outputs": [
    {
     "data": {
      "text/plain": [
       "int"
      ]
     },
     "execution_count": 8,
     "metadata": {},
     "output_type": "execute_result"
    }
   ],
   "source": [
    "type (0)"
   ]
  },
  {
   "cell_type": "code",
   "execution_count": 9,
   "id": "d474de0b",
   "metadata": {
    "slideshow": {
     "slide_type": "-"
    }
   },
   "outputs": [
    {
     "data": {
      "text/plain": [
       "float"
      ]
     },
     "execution_count": 9,
     "metadata": {},
     "output_type": "execute_result"
    }
   ],
   "source": [
    "type (0.0)"
   ]
  },
  {
   "cell_type": "code",
   "execution_count": 10,
   "id": "f5b20efa",
   "metadata": {
    "slideshow": {
     "slide_type": "slide"
    }
   },
   "outputs": [],
   "source": [
    "# Example: Representing account balances\n",
    "balance = 1000  # Integer\n",
    "interest_rate = 5.5  # Float"
   ]
  },
  {
   "cell_type": "code",
   "execution_count": 11,
   "id": "a51bf0e9",
   "metadata": {
    "slideshow": {
     "slide_type": "-"
    }
   },
   "outputs": [
    {
     "name": "stdout",
     "output_type": "stream",
     "text": [
      "Interest: 55.0\n"
     ]
    }
   ],
   "source": [
    "# Calculating interest\n",
    "interest = balance * interest_rate / 100\n",
    "print(\"Interest:\", interest)"
   ]
  },
  {
   "cell_type": "markdown",
   "id": "613a678c",
   "metadata": {
    "slideshow": {
     "slide_type": "slide"
    }
   },
   "source": [
    "### 1.2 Booleans"
   ]
  },
  {
   "cell_type": "markdown",
   "id": "3f912086",
   "metadata": {
    "slideshow": {
     "slide_type": "-"
    }
   },
   "source": [
    "**Booleans** represent `True` or `False` values. "
   ]
  },
  {
   "cell_type": "code",
   "execution_count": 12,
   "id": "d44ac7e7",
   "metadata": {
    "slideshow": {
     "slide_type": "slide"
    }
   },
   "outputs": [
    {
     "name": "stdout",
     "output_type": "stream",
     "text": [
      "The account is active.\n"
     ]
    }
   ],
   "source": [
    "# Example: Checking if an account is active\n",
    "account_active = True\n",
    "if account_active:\n",
    "    print(\"The account is active.\")\n",
    "else:\n",
    "    print(\"The account is inactive.\")"
   ]
  },
  {
   "cell_type": "code",
   "execution_count": 13,
   "id": "e11d0eb6",
   "metadata": {
    "slideshow": {
     "slide_type": "slide"
    }
   },
   "outputs": [
    {
     "name": "stdout",
     "output_type": "stream",
     "text": [
      "The account is active.\n"
     ]
    }
   ],
   "source": [
    "# implicit comparison\n",
    "if account_active == True:\n",
    "    print(\"The account is active.\")\n",
    "else:\n",
    "    print(\"The account is inactive.\")"
   ]
  },
  {
   "cell_type": "markdown",
   "id": "6dafea5e",
   "metadata": {
    "slideshow": {
     "slide_type": "slide"
    }
   },
   "source": [
    "#### Conditions: `>` `<` `>=` `<=` `==` `!=`"
   ]
  },
  {
   "cell_type": "code",
   "execution_count": 14,
   "id": "c52b8e98",
   "metadata": {
    "slideshow": {
     "slide_type": "-"
    }
   },
   "outputs": [
    {
     "data": {
      "text/plain": [
       "True"
      ]
     },
     "execution_count": 14,
     "metadata": {},
     "output_type": "execute_result"
    }
   ],
   "source": [
    "4 > 3"
   ]
  },
  {
   "cell_type": "code",
   "execution_count": 15,
   "id": "a82f1f82",
   "metadata": {
    "slideshow": {
     "slide_type": "-"
    }
   },
   "outputs": [
    {
     "data": {
      "text/plain": [
       "bool"
      ]
     },
     "execution_count": 15,
     "metadata": {},
     "output_type": "execute_result"
    }
   ],
   "source": [
    "type (4 > 3)"
   ]
  },
  {
   "cell_type": "code",
   "execution_count": 16,
   "id": "d18ef1e7",
   "metadata": {
    "slideshow": {
     "slide_type": "-"
    }
   },
   "outputs": [
    {
     "data": {
      "text/plain": [
       "bool"
      ]
     },
     "execution_count": 16,
     "metadata": {},
     "output_type": "execute_result"
    }
   ],
   "source": [
    "type (False)"
   ]
  },
  {
   "cell_type": "code",
   "execution_count": 17,
   "id": "51b7b9d3",
   "metadata": {
    "slideshow": {
     "slide_type": "-"
    }
   },
   "outputs": [
    {
     "data": {
      "text/plain": [
       "True"
      ]
     },
     "execution_count": 17,
     "metadata": {},
     "output_type": "execute_result"
    }
   ],
   "source": [
    "4 >= 3"
   ]
  },
  {
   "cell_type": "code",
   "execution_count": 18,
   "id": "235383b5",
   "metadata": {
    "slideshow": {
     "slide_type": "-"
    }
   },
   "outputs": [
    {
     "data": {
      "text/plain": [
       "False"
      ]
     },
     "execution_count": 18,
     "metadata": {},
     "output_type": "execute_result"
    }
   ],
   "source": [
    "4 < 3"
   ]
  },
  {
   "cell_type": "code",
   "execution_count": 19,
   "id": "1c501f96",
   "metadata": {
    "slideshow": {
     "slide_type": "-"
    }
   },
   "outputs": [
    {
     "data": {
      "text/plain": [
       "False"
      ]
     },
     "execution_count": 19,
     "metadata": {},
     "output_type": "execute_result"
    }
   ],
   "source": [
    "4 == 3"
   ]
  },
  {
   "cell_type": "code",
   "execution_count": 20,
   "id": "211473c6",
   "metadata": {
    "slideshow": {
     "slide_type": "-"
    }
   },
   "outputs": [
    {
     "data": {
      "text/plain": [
       "True"
      ]
     },
     "execution_count": 20,
     "metadata": {},
     "output_type": "execute_result"
    }
   ],
   "source": [
    "4 != 3"
   ]
  },
  {
   "cell_type": "markdown",
   "id": "e15d8466",
   "metadata": {
    "slideshow": {
     "slide_type": "slide"
    }
   },
   "source": [
    "#### Logic operations: `and` `or` `not` `in`"
   ]
  },
  {
   "cell_type": "code",
   "execution_count": 21,
   "id": "c48b5669",
   "metadata": {
    "slideshow": {
     "slide_type": "-"
    }
   },
   "outputs": [
    {
     "data": {
      "text/plain": [
       "True"
      ]
     },
     "execution_count": 21,
     "metadata": {},
     "output_type": "execute_result"
    }
   ],
   "source": [
    "True and True"
   ]
  },
  {
   "cell_type": "code",
   "execution_count": 22,
   "id": "3c874f7c",
   "metadata": {
    "slideshow": {
     "slide_type": "-"
    }
   },
   "outputs": [
    {
     "data": {
      "text/plain": [
       "False"
      ]
     },
     "execution_count": 22,
     "metadata": {},
     "output_type": "execute_result"
    }
   ],
   "source": [
    "False and False"
   ]
  },
  {
   "cell_type": "code",
   "execution_count": 23,
   "id": "027ba315",
   "metadata": {
    "slideshow": {
     "slide_type": "-"
    }
   },
   "outputs": [
    {
     "data": {
      "text/plain": [
       "True"
      ]
     },
     "execution_count": 23,
     "metadata": {},
     "output_type": "execute_result"
    }
   ],
   "source": [
    "True or True"
   ]
  },
  {
   "cell_type": "code",
   "execution_count": 24,
   "id": "ce02dad5",
   "metadata": {
    "slideshow": {
     "slide_type": "-"
    }
   },
   "outputs": [
    {
     "data": {
      "text/plain": [
       "True"
      ]
     },
     "execution_count": 24,
     "metadata": {},
     "output_type": "execute_result"
    }
   ],
   "source": [
    "True or False"
   ]
  },
  {
   "cell_type": "code",
   "execution_count": 25,
   "id": "f1fa1664",
   "metadata": {
    "slideshow": {
     "slide_type": "-"
    }
   },
   "outputs": [
    {
     "data": {
      "text/plain": [
       "False"
      ]
     },
     "execution_count": 25,
     "metadata": {},
     "output_type": "execute_result"
    }
   ],
   "source": [
    "False or False"
   ]
  },
  {
   "cell_type": "code",
   "execution_count": 26,
   "id": "6b6e66d8",
   "metadata": {
    "slideshow": {
     "slide_type": "-"
    }
   },
   "outputs": [
    {
     "data": {
      "text/plain": [
       "False"
      ]
     },
     "execution_count": 26,
     "metadata": {},
     "output_type": "execute_result"
    }
   ],
   "source": [
    "not True"
   ]
  },
  {
   "cell_type": "code",
   "execution_count": 27,
   "id": "b0db64e0",
   "metadata": {
    "slideshow": {
     "slide_type": "-"
    }
   },
   "outputs": [
    {
     "data": {
      "text/plain": [
       "True"
      ]
     },
     "execution_count": 27,
     "metadata": {},
     "output_type": "execute_result"
    }
   ],
   "source": [
    "not False"
   ]
  },
  {
   "cell_type": "markdown",
   "id": "1c974174",
   "metadata": {
    "slideshow": {
     "slide_type": "slide"
    }
   },
   "source": [
    "#### Combinations"
   ]
  },
  {
   "cell_type": "code",
   "execution_count": 28,
   "id": "32c7e2a0",
   "metadata": {
    "slideshow": {
     "slide_type": "-"
    }
   },
   "outputs": [
    {
     "data": {
      "text/plain": [
       "False"
      ]
     },
     "execution_count": 28,
     "metadata": {},
     "output_type": "execute_result"
    }
   ],
   "source": [
    "(4 > 3) and (2 > 3)"
   ]
  },
  {
   "cell_type": "code",
   "execution_count": 29,
   "id": "21004cb3",
   "metadata": {
    "slideshow": {
     "slide_type": "-"
    }
   },
   "outputs": [
    {
     "data": {
      "text/plain": [
       "True"
      ]
     },
     "execution_count": 29,
     "metadata": {},
     "output_type": "execute_result"
    }
   ],
   "source": [
    "(4==3) or (2 != 3)"
   ]
  },
  {
   "cell_type": "code",
   "execution_count": 30,
   "id": "4ad2023d",
   "metadata": {
    "slideshow": {
     "slide_type": "-"
    }
   },
   "outputs": [
    {
     "data": {
      "text/plain": [
       "True"
      ]
     },
     "execution_count": 30,
     "metadata": {},
     "output_type": "execute_result"
    }
   ],
   "source": [
    "not (4 != 4)"
   ]
  },
  {
   "cell_type": "code",
   "execution_count": 31,
   "id": "a03f1e88",
   "metadata": {
    "slideshow": {
     "slide_type": "-"
    }
   },
   "outputs": [
    {
     "data": {
      "text/plain": [
       "False"
      ]
     },
     "execution_count": 31,
     "metadata": {},
     "output_type": "execute_result"
    }
   ],
   "source": [
    "(not (4 != 4)) and (2 == 3)"
   ]
  },
  {
   "cell_type": "markdown",
   "id": "0a0abe79",
   "metadata": {
    "slideshow": {
     "slide_type": "slide"
    }
   },
   "source": [
    "**Note:** Major for control condition (`if` `while` `for`) -- see later"
   ]
  },
  {
   "cell_type": "code",
   "execution_count": 32,
   "id": "1f0dc00b",
   "metadata": {
    "slideshow": {
     "slide_type": "-"
    }
   },
   "outputs": [
    {
     "name": "stdout",
     "output_type": "stream",
     "text": [
      "condition true\n"
     ]
    }
   ],
   "source": [
    "if 4 > 3:\n",
    "    print ('condition true')\n",
    "else:\n",
    "    print ('condition not true')"
   ]
  },
  {
   "cell_type": "code",
   "execution_count": 33,
   "id": "1d922c9c",
   "metadata": {
    "slideshow": {
     "slide_type": "-"
    }
   },
   "outputs": [
    {
     "name": "stdout",
     "output_type": "stream",
     "text": [
      "condition true: i =  0\n",
      "condition true: i =  1\n",
      "condition true: i =  2\n",
      "condition true: i =  3\n"
     ]
    }
   ],
   "source": [
    "i = 0\n",
    "while i < 4:\n",
    "    print ('condition true: i = ', i)\n",
    "    i = i + 1"
   ]
  },
  {
   "cell_type": "markdown",
   "id": "99a1aedd",
   "metadata": {
    "slideshow": {
     "slide_type": "slide"
    }
   },
   "source": [
    "#### Boolean casting: 0,1 (and other values)"
   ]
  },
  {
   "cell_type": "code",
   "execution_count": 34,
   "id": "5f3317ac",
   "metadata": {
    "slideshow": {
     "slide_type": "-"
    }
   },
   "outputs": [
    {
     "data": {
      "text/plain": [
       "1"
      ]
     },
     "execution_count": 34,
     "metadata": {},
     "output_type": "execute_result"
    }
   ],
   "source": [
    "int(True)"
   ]
  },
  {
   "cell_type": "code",
   "execution_count": 35,
   "id": "80726a2a",
   "metadata": {
    "slideshow": {
     "slide_type": "-"
    }
   },
   "outputs": [
    {
     "data": {
      "text/plain": [
       "0"
      ]
     },
     "execution_count": 35,
     "metadata": {},
     "output_type": "execute_result"
    }
   ],
   "source": [
    "int(False)"
   ]
  },
  {
   "cell_type": "code",
   "execution_count": 36,
   "id": "eec021bd",
   "metadata": {
    "slideshow": {
     "slide_type": "-"
    }
   },
   "outputs": [
    {
     "data": {
      "text/plain": [
       "1.0"
      ]
     },
     "execution_count": 36,
     "metadata": {},
     "output_type": "execute_result"
    }
   ],
   "source": [
    "float(True)"
   ]
  },
  {
   "cell_type": "code",
   "execution_count": 37,
   "id": "22d88380",
   "metadata": {
    "slideshow": {
     "slide_type": "-"
    }
   },
   "outputs": [
    {
     "data": {
      "text/plain": [
       "0.0"
      ]
     },
     "execution_count": 37,
     "metadata": {},
     "output_type": "execute_result"
    }
   ],
   "source": [
    "float(False)"
   ]
  },
  {
   "cell_type": "code",
   "execution_count": 38,
   "id": "92cb8c6b",
   "metadata": {
    "slideshow": {
     "slide_type": "-"
    }
   },
   "outputs": [
    {
     "data": {
      "text/plain": [
       "False"
      ]
     },
     "execution_count": 38,
     "metadata": {},
     "output_type": "execute_result"
    }
   ],
   "source": [
    "bool(0)"
   ]
  },
  {
   "cell_type": "code",
   "execution_count": 39,
   "id": "b796b61e",
   "metadata": {
    "slideshow": {
     "slide_type": "-"
    }
   },
   "outputs": [
    {
     "data": {
      "text/plain": [
       "True"
      ]
     },
     "execution_count": 39,
     "metadata": {},
     "output_type": "execute_result"
    }
   ],
   "source": [
    "bool(1)"
   ]
  },
  {
   "cell_type": "code",
   "execution_count": 40,
   "id": "9d970c75",
   "metadata": {
    "slideshow": {
     "slide_type": "-"
    }
   },
   "outputs": [
    {
     "data": {
      "text/plain": [
       "False"
      ]
     },
     "execution_count": 40,
     "metadata": {},
     "output_type": "execute_result"
    }
   ],
   "source": [
    "bool(0.0)"
   ]
  },
  {
   "cell_type": "code",
   "execution_count": 41,
   "id": "be82e980",
   "metadata": {
    "slideshow": {
     "slide_type": "-"
    }
   },
   "outputs": [
    {
     "data": {
      "text/plain": [
       "True"
      ]
     },
     "execution_count": 41,
     "metadata": {},
     "output_type": "execute_result"
    }
   ],
   "source": [
    "bool(1.0)"
   ]
  },
  {
   "cell_type": "code",
   "execution_count": 42,
   "id": "960d0985",
   "metadata": {
    "slideshow": {
     "slide_type": "-"
    }
   },
   "outputs": [
    {
     "data": {
      "text/plain": [
       "True"
      ]
     },
     "execution_count": 42,
     "metadata": {},
     "output_type": "execute_result"
    }
   ],
   "source": [
    "bool(10.5)"
   ]
  },
  {
   "cell_type": "code",
   "execution_count": 43,
   "id": "7c26c439",
   "metadata": {
    "slideshow": {
     "slide_type": "-"
    }
   },
   "outputs": [
    {
     "data": {
      "text/plain": [
       "True"
      ]
     },
     "execution_count": 43,
     "metadata": {},
     "output_type": "execute_result"
    }
   ],
   "source": [
    "bool(-2)"
   ]
  },
  {
   "cell_type": "markdown",
   "id": "fb45035f",
   "metadata": {
    "slideshow": {
     "slide_type": "slide"
    }
   },
   "source": [
    "### 1.3 Strings"
   ]
  },
  {
   "cell_type": "markdown",
   "id": "4e79f611",
   "metadata": {
    "slideshow": {
     "slide_type": "-"
    }
   },
   "source": [
    "**Strings** are used to represent text. "
   ]
  },
  {
   "cell_type": "code",
   "execution_count": 44,
   "id": "225b3f65",
   "metadata": {
    "slideshow": {
     "slide_type": "slide"
    }
   },
   "outputs": [
    {
     "name": "stdout",
     "output_type": "stream",
     "text": [
      "Account Holder: John Doe\n",
      "Account Number: 1234567890\n"
     ]
    }
   ],
   "source": [
    "# Example: Representing account holder information\n",
    "account_holder = \"John Doe\"\n",
    "account_number = \"1234567890\"\n",
    "\n",
    "print(\"Account Holder:\", account_holder)\n",
    "print(\"Account Number:\", account_number)"
   ]
  },
  {
   "cell_type": "code",
   "execution_count": 45,
   "id": "a08724d2",
   "metadata": {},
   "outputs": [
    {
     "data": {
      "text/plain": [
       "str"
      ]
     },
     "execution_count": 45,
     "metadata": {},
     "output_type": "execute_result"
    }
   ],
   "source": [
    "type(account_holder)"
   ]
  },
  {
   "cell_type": "markdown",
   "id": "093829b8",
   "metadata": {
    "slideshow": {
     "slide_type": "slide"
    }
   },
   "source": [
    "#### Built-in methods"
   ]
  },
  {
   "cell_type": "markdown",
   "id": "c3b67f5a",
   "metadata": {
    "slideshow": {
     "slide_type": "-"
    }
   },
   "source": [
    "`str` variables come with a series of useful built-in methods.\n",
    "\n",
    "| Method |\n",
    "| --- |\n",
    "| `capitalize()` |\n",
    "| `count()` |\n",
    "| `find()` |\n",
    "| `join()` |\n",
    "| `replace()` |\n",
    "| `split()` |\n",
    "| `upper()` |"
   ]
  },
  {
   "cell_type": "code",
   "execution_count": 46,
   "id": "718eceec",
   "metadata": {
    "slideshow": {
     "slide_type": "slide"
    }
   },
   "outputs": [],
   "source": [
    "t = 'this is a string object'"
   ]
  },
  {
   "cell_type": "code",
   "execution_count": 47,
   "id": "7a4ea596",
   "metadata": {
    "slideshow": {
     "slide_type": "-"
    }
   },
   "outputs": [
    {
     "data": {
      "text/plain": [
       "'This is a string object'"
      ]
     },
     "execution_count": 47,
     "metadata": {},
     "output_type": "execute_result"
    }
   ],
   "source": [
    "t.capitalize()"
   ]
  },
  {
   "cell_type": "code",
   "execution_count": 48,
   "id": "a170d573",
   "metadata": {
    "slideshow": {
     "slide_type": "-"
    }
   },
   "outputs": [
    {
     "data": {
      "text/plain": [
       "['this', 'is', 'a', 'string', 'object']"
      ]
     },
     "execution_count": 48,
     "metadata": {},
     "output_type": "execute_result"
    }
   ],
   "source": [
    "t.split()"
   ]
  },
  {
   "cell_type": "code",
   "execution_count": 49,
   "id": "d28d495a",
   "metadata": {
    "slideshow": {
     "slide_type": "-"
    }
   },
   "outputs": [
    {
     "data": {
      "text/plain": [
       "10"
      ]
     },
     "execution_count": 49,
     "metadata": {},
     "output_type": "execute_result"
    }
   ],
   "source": [
    "t.find('string')"
   ]
  },
  {
   "cell_type": "code",
   "execution_count": 50,
   "id": "e6943668",
   "metadata": {
    "slideshow": {
     "slide_type": "-"
    }
   },
   "outputs": [
    {
     "data": {
      "text/plain": [
       "'this|is|a|string|object'"
      ]
     },
     "execution_count": 50,
     "metadata": {},
     "output_type": "execute_result"
    }
   ],
   "source": [
    "t.replace(' ','|')"
   ]
  },
  {
   "cell_type": "markdown",
   "id": "2cff5a76",
   "metadata": {
    "slideshow": {
     "slide_type": "slide"
    }
   },
   "source": [
    "#### Print method `print()`"
   ]
  },
  {
   "cell_type": "code",
   "execution_count": 51,
   "id": "70fca7e5",
   "metadata": {
    "slideshow": {
     "slide_type": "-"
    }
   },
   "outputs": [
    {
     "name": "stdout",
     "output_type": "stream",
     "text": [
      "Hello World!\n"
     ]
    }
   ],
   "source": [
    "print('Hello World!')"
   ]
  },
  {
   "cell_type": "code",
   "execution_count": 52,
   "id": "488c1d43",
   "metadata": {
    "slideshow": {
     "slide_type": "-"
    }
   },
   "outputs": [
    {
     "name": "stdout",
     "output_type": "stream",
     "text": [
      "this is a string object\n"
     ]
    }
   ],
   "source": [
    "print (t)"
   ]
  },
  {
   "cell_type": "code",
   "execution_count": 53,
   "id": "7037126c",
   "metadata": {
    "slideshow": {
     "slide_type": "-"
    }
   },
   "outputs": [
    {
     "name": "stdout",
     "output_type": "stream",
     "text": [
      "0\n",
      "1\n",
      "2\n",
      "3\n"
     ]
    }
   ],
   "source": [
    "i = 0\n",
    "while i < 4:\n",
    "    print (i)\n",
    "    i = i + 1"
   ]
  },
  {
   "cell_type": "code",
   "execution_count": 54,
   "id": "d8ba3cac",
   "metadata": {
    "slideshow": {
     "slide_type": "-"
    }
   },
   "outputs": [
    {
     "name": "stdout",
     "output_type": "stream",
     "text": [
      "0|1|2|3|"
     ]
    }
   ],
   "source": [
    "i = 0\n",
    "while i < 4:\n",
    "    print (i, end = '|')\n",
    "    i = i + 1"
   ]
  },
  {
   "cell_type": "markdown",
   "id": "ac88d3db",
   "metadata": {
    "slideshow": {
     "slide_type": "slide"
    }
   },
   "source": [
    "#### Printing with variables"
   ]
  },
  {
   "cell_type": "code",
   "execution_count": 55,
   "id": "e190800e",
   "metadata": {
    "slideshow": {
     "slide_type": "-"
    }
   },
   "outputs": [
    {
     "name": "stdout",
     "output_type": "stream",
     "text": [
      "this is the value of a: 10\n"
     ]
    }
   ],
   "source": [
    "a = 10\n",
    "print('this is the value of a:', a)"
   ]
  },
  {
   "cell_type": "code",
   "execution_count": 56,
   "id": "a19bc2bc",
   "metadata": {
    "slideshow": {
     "slide_type": "-"
    }
   },
   "outputs": [
    {
     "name": "stdout",
     "output_type": "stream",
     "text": [
      "this is the value of a: 10\n"
     ]
    }
   ],
   "source": [
    "tt = 'this is the value of a: ' + str(a)\n",
    "print (tt)"
   ]
  },
  {
   "cell_type": "markdown",
   "id": "4faffcbe",
   "metadata": {
    "slideshow": {
     "slide_type": "slide"
    }
   },
   "source": [
    "## 2. Basic structures"
   ]
  },
  {
   "cell_type": "markdown",
   "id": "da8d7ede",
   "metadata": {
    "slideshow": {
     "slide_type": "slide"
    }
   },
   "source": [
    "**List of structures** \n",
    "\n",
    "| Object type | Meaning | Used for |\n",
    "| --- | --- | --- |\n",
    "| `tuple` | immutable container | fixed set of objects |\n",
    "| `list` | mutable container | ordered and changing set of objects |\n",
    "| `dict` | mutable container | key-value store |\n",
    "| `set` | mutable container | unordered collection of unique objects |\n",
    "\n",
    "\n",
    "*use built-in function `type()` to obtain the information*\n"
   ]
  },
  {
   "cell_type": "markdown",
   "id": "2b569876",
   "metadata": {
    "slideshow": {
     "slide_type": "slide"
    }
   },
   "source": [
    "**Navigating structures**\n",
    "\n",
    "- **Indexing**: obtain item at position *n* \n",
    "        s[n]\n",
    "- **Slicing**: obtain items between position *i* and *j*\n",
    "        s[i:j]\n",
    "        s[i:]\n",
    "        s[:j]\n",
    "- **Ranging**: obtain items between position *i* and *j* spaced by *k*\n",
    "        s[i:j:k]\n",
    "\n",
    "**Note:** In Python, indexing starts at `0`"
   ]
  },
  {
   "cell_type": "markdown",
   "id": "dab36e11",
   "metadata": {
    "slideshow": {
     "slide_type": "slide"
    }
   },
   "source": [
    "### 2.1 `tuple`"
   ]
  },
  {
   "cell_type": "markdown",
   "id": "6effe56a",
   "metadata": {
    "slideshow": {
     "slide_type": "-"
    }
   },
   "source": [
    "**Tuples** are **immutable** collections of items (i.e., cannot be changed after creation). "
   ]
  },
  {
   "cell_type": "code",
   "execution_count": 57,
   "id": "d0308b3e",
   "metadata": {
    "slideshow": {
     "slide_type": "slide"
    }
   },
   "outputs": [
    {
     "name": "stdout",
     "output_type": "stream",
     "text": [
      "Branch Location: (40.7128, -74.006)\n"
     ]
    }
   ],
   "source": [
    "# Example: Coordinates of a bank branch\n",
    "branch_location = (40.7128, -74.0060)  # New York City coordinates\n",
    "print(\"Branch Location:\", branch_location)"
   ]
  },
  {
   "cell_type": "code",
   "execution_count": 58,
   "id": "647882c0",
   "metadata": {
    "slideshow": {
     "slide_type": "slide"
    }
   },
   "outputs": [
    {
     "data": {
      "text/plain": [
       "tuple"
      ]
     },
     "execution_count": 58,
     "metadata": {},
     "output_type": "execute_result"
    }
   ],
   "source": [
    "t = (1, 2.5, 'data')\n",
    "type(t)"
   ]
  },
  {
   "cell_type": "code",
   "execution_count": 59,
   "id": "d72b87d4",
   "metadata": {},
   "outputs": [
    {
     "data": {
      "text/plain": [
       "tuple"
      ]
     },
     "execution_count": 59,
     "metadata": {},
     "output_type": "execute_result"
    }
   ],
   "source": [
    "#also works without ()\n",
    "t = 1, 2.5, 'data'\n",
    "type(t)"
   ]
  },
  {
   "cell_type": "code",
   "execution_count": 60,
   "id": "c1f61beb",
   "metadata": {},
   "outputs": [
    {
     "data": {
      "text/plain": [
       "'data'"
      ]
     },
     "execution_count": 60,
     "metadata": {},
     "output_type": "execute_result"
    }
   ],
   "source": [
    "#indexing\n",
    "t[2]"
   ]
  },
  {
   "cell_type": "code",
   "execution_count": 61,
   "id": "c0fe90d9",
   "metadata": {},
   "outputs": [
    {
     "data": {
      "text/plain": [
       "str"
      ]
     },
     "execution_count": 61,
     "metadata": {},
     "output_type": "execute_result"
    }
   ],
   "source": [
    "type(t[2])"
   ]
  },
  {
   "cell_type": "markdown",
   "id": "230df2e4",
   "metadata": {
    "slideshow": {
     "slide_type": "slide"
    }
   },
   "source": [
    "### 2.2 `list`"
   ]
  },
  {
   "cell_type": "markdown",
   "id": "7995e487",
   "metadata": {
    "slideshow": {
     "slide_type": "-"
    }
   },
   "source": [
    "**Lists** are **ordered** collections of items, which can be of mixed data types. "
   ]
  },
  {
   "cell_type": "code",
   "execution_count": 62,
   "id": "a75be516",
   "metadata": {
    "slideshow": {
     "slide_type": "slide"
    }
   },
   "outputs": [
    {
     "name": "stdout",
     "output_type": "stream",
     "text": [
      "Transactions: [100, -50, 200, -30, 400]\n",
      "Updated Transactions: [100, -50, 200, -30, 400, -100]\n"
     ]
    }
   ],
   "source": [
    "# Example: List of recent transactions\n",
    "transactions = [100, -50, 200, -30, 400]\n",
    "print(\"Transactions:\", transactions)\n",
    "\n",
    "# Adding a new transaction\n",
    "transactions.append(-100)\n",
    "print(\"Updated Transactions:\", transactions)"
   ]
  },
  {
   "cell_type": "code",
   "execution_count": 63,
   "id": "1d14c6c6",
   "metadata": {
    "slideshow": {
     "slide_type": "slide"
    }
   },
   "outputs": [
    {
     "data": {
      "text/plain": [
       "'data'"
      ]
     },
     "execution_count": 63,
     "metadata": {},
     "output_type": "execute_result"
    }
   ],
   "source": [
    "l = [1, 2.5, 'data']\n",
    "l[2]"
   ]
  },
  {
   "cell_type": "code",
   "execution_count": 64,
   "id": "81fc7a2c",
   "metadata": {},
   "outputs": [
    {
     "data": {
      "text/plain": [
       "[1, 2.5, 'data']"
      ]
     },
     "execution_count": 64,
     "metadata": {},
     "output_type": "execute_result"
    }
   ],
   "source": [
    "#casting\n",
    "l = list(t)\n",
    "l"
   ]
  },
  {
   "cell_type": "code",
   "execution_count": 65,
   "id": "14c3acc2",
   "metadata": {},
   "outputs": [
    {
     "data": {
      "text/plain": [
       "list"
      ]
     },
     "execution_count": 65,
     "metadata": {},
     "output_type": "execute_result"
    }
   ],
   "source": [
    "type (l)"
   ]
  },
  {
   "cell_type": "markdown",
   "id": "a19ef20b",
   "metadata": {
    "slideshow": {
     "slide_type": "slide"
    }
   },
   "source": [
    "#### Built-in methods"
   ]
  },
  {
   "cell_type": "markdown",
   "id": "91c58062",
   "metadata": {},
   "source": [
    "| Method |\n",
    "| --- |\n",
    "| `l[i] = x` |\n",
    "| `l[i:j:k] = s` |\n",
    "| `append()` |\n",
    "| `count()` |\n",
    "| `del l[i:j:k]` |\n",
    "| `index()` |\n",
    "| `extend()` |\n",
    "| `insert()` |\n",
    "| `remove()` |\n",
    "| `pop()` |\n",
    "| `revers()` |\n",
    "| `sort()` |\n",
    "\n",
    "*contrary to tuples, lists are mutable containers*"
   ]
  },
  {
   "cell_type": "code",
   "execution_count": 66,
   "id": "1eb83127",
   "metadata": {
    "slideshow": {
     "slide_type": "slide"
    }
   },
   "outputs": [
    {
     "data": {
      "text/plain": [
       "[1, 2.5, 'data', [4, 3]]"
      ]
     },
     "execution_count": 66,
     "metadata": {},
     "output_type": "execute_result"
    }
   ],
   "source": [
    "l.append([4,3])\n",
    "l"
   ]
  },
  {
   "cell_type": "code",
   "execution_count": 67,
   "id": "e7bf8d9c",
   "metadata": {},
   "outputs": [
    {
     "data": {
      "text/plain": [
       "[1, 2.5, 'data', [4, 3], 1.0, 1.5, 2.0]"
      ]
     },
     "execution_count": 67,
     "metadata": {},
     "output_type": "execute_result"
    }
   ],
   "source": [
    "l.extend([1.0, 1.5, 2.0])\n",
    "l"
   ]
  },
  {
   "cell_type": "code",
   "execution_count": 68,
   "id": "4f42b012",
   "metadata": {},
   "outputs": [
    {
     "name": "stdout",
     "output_type": "stream",
     "text": [
      "[0, 10, 2, 20, 4, 30, 6, 7]\n"
     ]
    }
   ],
   "source": [
    "l = [0, 1, 2, 3, 4, 5, 6, 7]\n",
    "s = [10, 20, 30]\n",
    "\n",
    "l[1:7:2] = s\n",
    "print(l)"
   ]
  },
  {
   "cell_type": "code",
   "execution_count": 69,
   "id": "7cc71853",
   "metadata": {
    "slideshow": {
     "slide_type": "slide"
    }
   },
   "outputs": [
    {
     "data": {
      "text/plain": [
       "[0, 'insert', 10, 2, 20, 4, 30, 6, 7]"
      ]
     },
     "execution_count": 69,
     "metadata": {},
     "output_type": "execute_result"
    }
   ],
   "source": [
    "l.insert(1,'insert')\n",
    "l"
   ]
  },
  {
   "cell_type": "code",
   "execution_count": 70,
   "id": "39436f5c",
   "metadata": {},
   "outputs": [
    {
     "ename": "ValueError",
     "evalue": "list.remove(x): x not in list",
     "output_type": "error",
     "traceback": [
      "\u001b[0;31m---------------------------------------------------------------------------\u001b[0m",
      "\u001b[0;31mValueError\u001b[0m                                Traceback (most recent call last)",
      "Input \u001b[0;32mIn [70]\u001b[0m, in \u001b[0;36m<cell line: 1>\u001b[0;34m()\u001b[0m\n\u001b[0;32m----> 1\u001b[0m \u001b[43ml\u001b[49m\u001b[38;5;241;43m.\u001b[39;49m\u001b[43mremove\u001b[49m\u001b[43m(\u001b[49m\u001b[38;5;124;43m'\u001b[39;49m\u001b[38;5;124;43mdata\u001b[39;49m\u001b[38;5;124;43m'\u001b[39;49m\u001b[43m)\u001b[49m\n\u001b[1;32m      2\u001b[0m l\n",
      "\u001b[0;31mValueError\u001b[0m: list.remove(x): x not in list"
     ]
    }
   ],
   "source": [
    "l.remove('data')\n",
    "l"
   ]
  },
  {
   "cell_type": "code",
   "execution_count": 71,
   "id": "417242c1",
   "metadata": {},
   "outputs": [
    {
     "name": "stdout",
     "output_type": "stream",
     "text": [
      "[0, 'insert', 10, 20, 4, 30, 6, 7] 2\n"
     ]
    }
   ],
   "source": [
    "p = l.pop(3)\n",
    "print (l, p)"
   ]
  },
  {
   "cell_type": "code",
   "execution_count": 72,
   "id": "8f8d283f",
   "metadata": {},
   "outputs": [
    {
     "data": {
      "text/plain": [
       "[10, 20, 4]"
      ]
     },
     "execution_count": 72,
     "metadata": {},
     "output_type": "execute_result"
    }
   ],
   "source": [
    "#slicing\n",
    "l[2:5]"
   ]
  },
  {
   "cell_type": "markdown",
   "id": "0f596318",
   "metadata": {
    "slideshow": {
     "slide_type": "slide"
    }
   },
   "source": [
    "### 2.3 `dict`"
   ]
  },
  {
   "cell_type": "markdown",
   "id": "af74b1f9",
   "metadata": {},
   "source": [
    "**Dictionaries** store data as key-value pairs."
   ]
  },
  {
   "cell_type": "code",
   "execution_count": 73,
   "id": "10e89fec",
   "metadata": {
    "slideshow": {
     "slide_type": "slide"
    }
   },
   "outputs": [
    {
     "name": "stdout",
     "output_type": "stream",
     "text": [
      "Account Balances: {'1234567890': 1000, '0987654321': 2500, '1122334455': 750}\n",
      "Balance of account 1234567890: 1000\n"
     ]
    }
   ],
   "source": [
    "# Example: Dictionary of account balances\n",
    "account_balances = {\n",
    "    \"1234567890\": 1000,\n",
    "    \"0987654321\": 2500,\n",
    "    \"1122334455\": 750\n",
    "}\n",
    "print(\"Account Balances:\", account_balances)\n",
    "\n",
    "# Accessing a balance by account number\n",
    "print(\"Balance of account 1234567890:\", account_balances[\"1234567890\"])"
   ]
  },
  {
   "cell_type": "markdown",
   "id": "f8dadcd8",
   "metadata": {
    "slideshow": {
     "slide_type": "slide"
    }
   },
   "source": [
    "#### Keys and values"
   ]
  },
  {
   "cell_type": "code",
   "execution_count": 74,
   "id": "35f91539",
   "metadata": {},
   "outputs": [],
   "source": [
    "d = {\n",
    "    'Name' : 'Iron Man',\n",
    "    'Country' : 'USA',\n",
    "    'Profession' : 'Super Hero',\n",
    "    'Age' : 36\n",
    "}"
   ]
  },
  {
   "cell_type": "code",
   "execution_count": 75,
   "id": "7615ad53",
   "metadata": {},
   "outputs": [
    {
     "data": {
      "text/plain": [
       "dict"
      ]
     },
     "execution_count": 75,
     "metadata": {},
     "output_type": "execute_result"
    }
   ],
   "source": [
    "type(d)"
   ]
  },
  {
   "cell_type": "code",
   "execution_count": 76,
   "id": "c1846a10",
   "metadata": {},
   "outputs": [
    {
     "name": "stdout",
     "output_type": "stream",
     "text": [
      "Iron Man 36\n"
     ]
    }
   ],
   "source": [
    "print (d['Name'], d['Age'])"
   ]
  },
  {
   "cell_type": "markdown",
   "id": "b339b369",
   "metadata": {
    "slideshow": {
     "slide_type": "slide"
    }
   },
   "source": [
    "#### Built-in methods"
   ]
  },
  {
   "cell_type": "markdown",
   "id": "c2501e6c",
   "metadata": {},
   "source": [
    "| Method |\n",
    "| --- |\n",
    "| `d[k]` |\n",
    "| `d[k] = x` |\n",
    "| `del d[k]` |\n",
    "| `clear()` |\n",
    "| `copy()` |\n",
    "| `items()` |\n",
    "| `keys()` |\n",
    "| `values()` |\n",
    "| `popitem()` |\n",
    "| `update()` |"
   ]
  },
  {
   "cell_type": "code",
   "execution_count": 77,
   "id": "0173abd1",
   "metadata": {
    "slideshow": {
     "slide_type": "slide"
    }
   },
   "outputs": [
    {
     "data": {
      "text/plain": [
       "dict_keys(['Name', 'Country', 'Profession', 'Age'])"
      ]
     },
     "execution_count": 77,
     "metadata": {},
     "output_type": "execute_result"
    }
   ],
   "source": [
    "d.keys()"
   ]
  },
  {
   "cell_type": "code",
   "execution_count": 78,
   "id": "06584db8",
   "metadata": {},
   "outputs": [
    {
     "data": {
      "text/plain": [
       "dict_values(['Iron Man', 'USA', 'Super Hero', 36])"
      ]
     },
     "execution_count": 78,
     "metadata": {},
     "output_type": "execute_result"
    }
   ],
   "source": [
    "d.values()"
   ]
  },
  {
   "cell_type": "code",
   "execution_count": 79,
   "id": "b738bf6d",
   "metadata": {},
   "outputs": [
    {
     "data": {
      "text/plain": [
       "dict_items([('Name', 'Iron Man'), ('Country', 'USA'), ('Profession', 'Super Hero'), ('Age', 36)])"
      ]
     },
     "execution_count": 79,
     "metadata": {},
     "output_type": "execute_result"
    }
   ],
   "source": [
    "d.items()"
   ]
  },
  {
   "cell_type": "code",
   "execution_count": 80,
   "id": "38060be8",
   "metadata": {},
   "outputs": [
    {
     "name": "stdout",
     "output_type": "stream",
     "text": [
      "37\n"
     ]
    }
   ],
   "source": [
    "birthday = True\n",
    "if birthday:\n",
    "    d['Age'] += 1\n",
    "print (d['Age'])"
   ]
  },
  {
   "cell_type": "code",
   "execution_count": 81,
   "id": "db7ebdcc",
   "metadata": {},
   "outputs": [
    {
     "name": "stdout",
     "output_type": "stream",
     "text": [
      "('Name', 'Iron Man')\n",
      "('Country', 'USA')\n",
      "('Profession', 'Super Hero')\n",
      "('Age', 37)\n"
     ]
    }
   ],
   "source": [
    "for item in d.items():\n",
    "    print (item)"
   ]
  },
  {
   "cell_type": "code",
   "execution_count": 82,
   "id": "7fb2121e",
   "metadata": {
    "scrolled": true
   },
   "outputs": [
    {
     "name": "stdout",
     "output_type": "stream",
     "text": [
      "<class 'str'>\n",
      "<class 'str'>\n",
      "<class 'str'>\n",
      "<class 'int'>\n"
     ]
    }
   ],
   "source": [
    "for value in d.values():\n",
    "    print (type(value))"
   ]
  },
  {
   "cell_type": "markdown",
   "id": "52c137f0",
   "metadata": {
    "slideshow": {
     "slide_type": "slide"
    }
   },
   "source": [
    "### 2.4 `set`"
   ]
  },
  {
   "cell_type": "markdown",
   "id": "e0b1183e",
   "metadata": {},
   "source": [
    "**Sets** are unordered collections of unique items."
   ]
  },
  {
   "cell_type": "code",
   "execution_count": 83,
   "id": "8afc898c",
   "metadata": {
    "slideshow": {
     "slide_type": "slide"
    }
   },
   "outputs": [
    {
     "data": {
      "text/plain": [
       "{'d', 'du', 'u', 'ud'}"
      ]
     },
     "execution_count": 83,
     "metadata": {},
     "output_type": "execute_result"
    }
   ],
   "source": [
    "s = set(['u', 'd', 'ud', 'du', 'd', 'du'])\n",
    "s"
   ]
  },
  {
   "cell_type": "markdown",
   "id": "75dbd629",
   "metadata": {
    "slideshow": {
     "slide_type": "slide"
    }
   },
   "source": [
    "#### Set operations"
   ]
  },
  {
   "cell_type": "code",
   "execution_count": 84,
   "id": "bb04e176",
   "metadata": {},
   "outputs": [],
   "source": [
    "t = set(['d', 'dd', 'uu', 'u'])"
   ]
  },
  {
   "cell_type": "code",
   "execution_count": 85,
   "id": "1e397a13",
   "metadata": {},
   "outputs": [
    {
     "data": {
      "text/plain": [
       "{'d', 'dd', 'du', 'u', 'ud', 'uu'}"
      ]
     },
     "execution_count": 85,
     "metadata": {},
     "output_type": "execute_result"
    }
   ],
   "source": [
    "s.union(t)"
   ]
  },
  {
   "cell_type": "code",
   "execution_count": 86,
   "id": "991c9c29",
   "metadata": {},
   "outputs": [
    {
     "data": {
      "text/plain": [
       "{'d', 'u'}"
      ]
     },
     "execution_count": 86,
     "metadata": {},
     "output_type": "execute_result"
    }
   ],
   "source": [
    "s.intersection(t)"
   ]
  },
  {
   "cell_type": "code",
   "execution_count": 87,
   "id": "a0ff3c83",
   "metadata": {},
   "outputs": [
    {
     "data": {
      "text/plain": [
       "{'du', 'ud'}"
      ]
     },
     "execution_count": 87,
     "metadata": {},
     "output_type": "execute_result"
    }
   ],
   "source": [
    "s.difference(t)"
   ]
  },
  {
   "cell_type": "code",
   "execution_count": 88,
   "id": "843c95e8",
   "metadata": {},
   "outputs": [
    {
     "data": {
      "text/plain": [
       "{'dd', 'uu'}"
      ]
     },
     "execution_count": 88,
     "metadata": {},
     "output_type": "execute_result"
    }
   ],
   "source": [
    "t.difference(s)"
   ]
  },
  {
   "cell_type": "code",
   "execution_count": 89,
   "id": "7292b6d1",
   "metadata": {},
   "outputs": [
    {
     "data": {
      "text/plain": [
       "{'dd', 'du', 'ud', 'uu'}"
      ]
     },
     "execution_count": 89,
     "metadata": {},
     "output_type": "execute_result"
    }
   ],
   "source": [
    "s.symmetric_difference(t)"
   ]
  },
  {
   "cell_type": "markdown",
   "id": "7145fb06",
   "metadata": {
    "slideshow": {
     "slide_type": "slide"
    }
   },
   "source": [
    " "
   ]
  }
 ],
 "metadata": {
  "celltoolbar": "Slideshow",
  "kernelspec": {
   "display_name": "Python 3 (ipykernel)",
   "language": "python",
   "name": "python3"
  },
  "language_info": {
   "codemirror_mode": {
    "name": "ipython",
    "version": 3
   },
   "file_extension": ".py",
   "mimetype": "text/x-python",
   "name": "python",
   "nbconvert_exporter": "python",
   "pygments_lexer": "ipython3",
   "version": "3.9.12"
  }
 },
 "nbformat": 4,
 "nbformat_minor": 5
}
