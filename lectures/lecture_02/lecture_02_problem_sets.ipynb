{
 "cells": [
  {
   "cell_type": "markdown",
   "id": "50a2f634",
   "metadata": {},
   "source": [
    "# Data Types and Structures - Problem sets"
   ]
  },
  {
   "cell_type": "markdown",
   "id": "dbac5946",
   "metadata": {
    "heading_collapsed": true
   },
   "source": [
    "### Exercise 1: Check Data Types"
   ]
  },
  {
   "cell_type": "markdown",
   "id": "4c4396b2",
   "metadata": {
    "hidden": true
   },
   "source": [
    "Write a Python program that prints the data types of the following variables:\n",
    "```python\n",
    "a = 42\n",
    "b = 3.14\n",
    "c = \"Python\"\n",
    "d = [1, 2, 3]\n",
    "e = (1, 2, 3)\n",
    "f = {'name': 'John', 'age': 30}\n",
    "g = {1, 2, 3}\n",
    "```"
   ]
  },
  {
   "cell_type": "code",
   "execution_count": 1,
   "id": "765dc892",
   "metadata": {
    "hidden": true
   },
   "outputs": [],
   "source": [
    "# Your code"
   ]
  },
  {
   "cell_type": "markdown",
   "id": "77eaa71b",
   "metadata": {
    "heading_collapsed": true
   },
   "source": [
    "### Exercise 2: List Operations"
   ]
  },
  {
   "cell_type": "markdown",
   "id": "9dd7587a",
   "metadata": {
    "hidden": true
   },
   "source": [
    "Create a list with the elements `[10, 20, 30, 40, 50]`. Add `60` to the list, remove `30`, and reverse the list."
   ]
  },
  {
   "cell_type": "code",
   "execution_count": 2,
   "id": "38b4614e",
   "metadata": {
    "hidden": true
   },
   "outputs": [],
   "source": [
    "# Your code"
   ]
  },
  {
   "cell_type": "markdown",
   "id": "7a4ab5c3",
   "metadata": {
    "heading_collapsed": true
   },
   "source": [
    "### Exercise 3: Tuple Unpacking"
   ]
  },
  {
   "cell_type": "markdown",
   "id": "ec7d8651",
   "metadata": {
    "hidden": true
   },
   "source": [
    "Given the following tuple, unpack its elements into separate variables and print them:\n",
    "```python\n",
    "my_tuple = (100, 200, 300)\n",
    "```"
   ]
  },
  {
   "cell_type": "code",
   "execution_count": 2,
   "id": "cc4fa218",
   "metadata": {
    "hidden": true
   },
   "outputs": [],
   "source": [
    "# Your code"
   ]
  },
  {
   "cell_type": "markdown",
   "id": "fa94187a",
   "metadata": {
    "heading_collapsed": true
   },
   "source": [
    "### Exercise 4: Dictionary Manipulation"
   ]
  },
  {
   "cell_type": "markdown",
   "id": "a209899d",
   "metadata": {
    "hidden": true
   },
   "source": [
    "Create a dictionary with keys `'name'`, `'age'`, and `'city'`, and values `'Alice'`, `25`, and `'New York'`. Update the age to `26` and add a new key `'profession'` with value `'Engineer'`."
   ]
  },
  {
   "cell_type": "code",
   "execution_count": 3,
   "id": "65d2306b",
   "metadata": {
    "hidden": true
   },
   "outputs": [],
   "source": [
    "# Your code"
   ]
  },
  {
   "cell_type": "markdown",
   "id": "19d9eb3c",
   "metadata": {
    "heading_collapsed": true
   },
   "source": [
    "### Exercise 5: Set Operations"
   ]
  },
  {
   "cell_type": "markdown",
   "id": "4911ba15",
   "metadata": {
    "hidden": true
   },
   "source": [
    "Create two sets, `set1` with elements `{1, 2, 3, 4}` and `set2` with elements `{3, 4, 5, 6}`. Find the union, intersection, and difference between these sets."
   ]
  },
  {
   "cell_type": "code",
   "execution_count": 4,
   "id": "17a1c670",
   "metadata": {
    "hidden": true
   },
   "outputs": [],
   "source": [
    "# Your code"
   ]
  },
  {
   "cell_type": "markdown",
   "id": "9768b7f2",
   "metadata": {
    "heading_collapsed": true
   },
   "source": [
    "### Exercise 6: String Slicing"
   ]
  },
  {
   "cell_type": "markdown",
   "id": "28100404",
   "metadata": {
    "hidden": true
   },
   "source": [
    "Given the string `s = \"Hello, Python!\"`, write code to:\n",
    "1. Extract the substring `\"Python\"`.\n",
    "2. Reverse the entire string."
   ]
  },
  {
   "cell_type": "code",
   "execution_count": 5,
   "id": "6896dbe3",
   "metadata": {
    "hidden": true
   },
   "outputs": [],
   "source": [
    "# Your code"
   ]
  },
  {
   "cell_type": "markdown",
   "id": "f1d894e4",
   "metadata": {
    "heading_collapsed": true
   },
   "source": [
    "### Exercise 7: Boolean Logic"
   ]
  },
  {
   "cell_type": "markdown",
   "id": "eab0a2b3",
   "metadata": {
    "hidden": true
   },
   "source": [
    "You are given three numbers, a, b, and c. Write a Python program that returns True if a is the largest number and b is not equal to c. Otherwise, return False."
   ]
  },
  {
   "cell_type": "code",
   "execution_count": 2,
   "id": "a1e42a7f",
   "metadata": {
    "hidden": true
   },
   "outputs": [],
   "source": [
    "# Input numbers\n",
    "a = 10\n",
    "b = 5\n",
    "c = 5\n",
    "\n",
    "# Your code"
   ]
  },
  {
   "cell_type": "markdown",
   "id": "2f31303f",
   "metadata": {
    "heading_collapsed": true
   },
   "source": [
    "### Exercise 8: Complex Boolean Logic with Multiple Conditions"
   ]
  },
  {
   "cell_type": "markdown",
   "id": "4deec9c0",
   "metadata": {
    "hidden": true
   },
   "source": [
    "Write a Python program that checks the following conditions for three variables x, y, and z:\n",
    "\n",
    "1.\tx is greater than y or y is equal to z.\n",
    "2.\tThe sum of x and y is even.\n",
    "3.\tx, y, and z are all positive numbers.\n",
    "\n",
    "The program should return True only if all three conditions are met."
   ]
  },
  {
   "cell_type": "code",
   "execution_count": 1,
   "id": "11413710",
   "metadata": {
    "hidden": true
   },
   "outputs": [],
   "source": [
    "# Input variables\n",
    "x = 8\n",
    "y = 6\n",
    "z = 6\n",
    "\n",
    "# Your code"
   ]
  },
  {
   "cell_type": "markdown",
   "id": "2fb97e79",
   "metadata": {
    "heading_collapsed": true
   },
   "source": [
    "### Exercise 9: Checking for Keys in a Dictionary"
   ]
  },
  {
   "cell_type": "markdown",
   "id": "cc016ee9",
   "metadata": {
    "hidden": true
   },
   "source": [
    "Given the dictionary `person = {'name': 'Bob', 'age': 25}`, check if the key `'age'` exists in the dictionary and print a message."
   ]
  },
  {
   "cell_type": "code",
   "execution_count": 8,
   "id": "85f8f38f",
   "metadata": {
    "hidden": true
   },
   "outputs": [],
   "source": [
    "# Your code"
   ]
  },
  {
   "cell_type": "markdown",
   "id": "8e7771b2",
   "metadata": {
    "heading_collapsed": true
   },
   "source": [
    "### Exercise 10: Nested Data Structures"
   ]
  },
  {
   "cell_type": "markdown",
   "id": "f87d8b80",
   "metadata": {
    "hidden": true
   },
   "source": [
    "Create a dictionary `students` where each key is a student's name and each value is a dictionary containing their `'age'` and a list of their `'grades'`. \n",
    "\n",
    "Enter the following data in the dictionary:\n",
    "- Alice is 24 and has grades 88, 92 and 86\n",
    "- Bob is 23 and had grades 75, 80, 89\n",
    "\n",
    "Print Bob’s age and Alice’s grades.\n"
   ]
  },
  {
   "cell_type": "code",
   "execution_count": 9,
   "id": "0c5ad59b",
   "metadata": {
    "hidden": true
   },
   "outputs": [],
   "source": [
    "# Your code"
   ]
  }
 ],
 "metadata": {
  "kernelspec": {
   "display_name": "Python 3 (ipykernel)",
   "language": "python",
   "name": "python3"
  },
  "language_info": {
   "codemirror_mode": {
    "name": "ipython",
    "version": 3
   },
   "file_extension": ".py",
   "mimetype": "text/x-python",
   "name": "python",
   "nbconvert_exporter": "python",
   "pygments_lexer": "ipython3",
   "version": "3.9.12"
  }
 },
 "nbformat": 4,
 "nbformat_minor": 5
}
